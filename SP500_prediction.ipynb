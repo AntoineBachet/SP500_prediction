{
 "cells": [
  {
   "cell_type": "markdown",
   "metadata": {},
   "source": [
    "### Importing Libraries"
   ]
  },
  {
   "cell_type": "code",
   "execution_count": 481,
   "metadata": {},
   "outputs": [],
   "source": [
    "import pandas as pd\n",
    "import numpy as np\n",
    "from datetime import datetime\n",
    "import seaborn as sns\n",
    "from sklearn.linear_model import LinearRegression\n",
    "from sklearn.linear_model import Lasso\n",
    "from sklearn.ensemble import BaggingRegressor\n",
    "from sklearn.ensemble import GradientBoostingRegressor\n",
    "from sklearn.metrics import r2_score\n",
    "import matplotlib.pyplot as plt\n",
    "pd.options.display.max_rows = 2500"
   ]
  },
  {
   "cell_type": "code",
   "execution_count": 362,
   "metadata": {},
   "outputs": [],
   "source": [
    "# CODING TEST:\n",
    "# This test is to measure how candidate can use Python to do data collecting, cleaning and modeling\n",
    "# For modeling part, we hope candidate can pay more attention to how to measure if this model is good and how to improve it."
   ]
  },
  {
   "cell_type": "code",
   "execution_count": 363,
   "metadata": {},
   "outputs": [],
   "source": [
    "# Project overview\n",
    "# We want to to use some econ variables to predict S&P 500 index"
   ]
  },
  {
   "cell_type": "code",
   "execution_count": 364,
   "metadata": {},
   "outputs": [],
   "source": [
    "# STEP 1:\n",
    "# Data collecting\n",
    "# Now we need to recent 10-years data of S&P500, CPI(consumer price index), UR(unemployment rate), PMI(purchasing manager index)\n",
    "# , Nikkei 225 index, VIX data(you need to shift this data by 15 mins), EFFR(you can find it from Fedfund) and VVIX data."
   ]
  },
  {
   "cell_type": "code",
   "execution_count": 365,
   "metadata": {},
   "outputs": [],
   "source": [
    "# Write you data collecting code below\n",
    "data_folder = './data/'"
   ]
  },
  {
   "cell_type": "markdown",
   "metadata": {},
   "source": [
    "### S&P500\n",
    "#### Source: https://finance.yahoo.com/quote/%5EGSPC/history?period1=1242878400&period2=1558411200&interval=1d&filter=history&frequency=1d"
   ]
  },
  {
   "cell_type": "code",
   "execution_count": 568,
   "metadata": {},
   "outputs": [
    {
     "data": {
      "text/html": [
       "<div>\n",
       "<style scoped>\n",
       "    .dataframe tbody tr th:only-of-type {\n",
       "        vertical-align: middle;\n",
       "    }\n",
       "\n",
       "    .dataframe tbody tr th {\n",
       "        vertical-align: top;\n",
       "    }\n",
       "\n",
       "    .dataframe thead th {\n",
       "        text-align: right;\n",
       "    }\n",
       "</style>\n",
       "<table border=\"1\" class=\"dataframe\">\n",
       "  <thead>\n",
       "    <tr style=\"text-align: right;\">\n",
       "      <th></th>\n",
       "      <th>Date</th>\n",
       "      <th>S&amp;P500</th>\n",
       "    </tr>\n",
       "  </thead>\n",
       "  <tbody>\n",
       "    <tr>\n",
       "      <th>0</th>\n",
       "      <td>2009-05-21</td>\n",
       "      <td>888.330017</td>\n",
       "    </tr>\n",
       "    <tr>\n",
       "      <th>1</th>\n",
       "      <td>2009-05-22</td>\n",
       "      <td>887.000000</td>\n",
       "    </tr>\n",
       "    <tr>\n",
       "      <th>2</th>\n",
       "      <td>2009-05-26</td>\n",
       "      <td>910.330017</td>\n",
       "    </tr>\n",
       "    <tr>\n",
       "      <th>3</th>\n",
       "      <td>2009-05-27</td>\n",
       "      <td>893.059998</td>\n",
       "    </tr>\n",
       "    <tr>\n",
       "      <th>4</th>\n",
       "      <td>2009-05-28</td>\n",
       "      <td>906.830017</td>\n",
       "    </tr>\n",
       "  </tbody>\n",
       "</table>\n",
       "</div>"
      ],
      "text/plain": [
       "        Date      S&P500\n",
       "0 2009-05-21  888.330017\n",
       "1 2009-05-22  887.000000\n",
       "2 2009-05-26  910.330017\n",
       "3 2009-05-27  893.059998\n",
       "4 2009-05-28  906.830017"
      ]
     },
     "execution_count": 568,
     "metadata": {},
     "output_type": "execute_result"
    }
   ],
   "source": [
    "SP500 = pd.read_csv(data_folder+'S&P500_source.csv')\n",
    "SP500 = SP500[['Date','Close']]\n",
    "SP500.columns = ['Date','S&P500']\n",
    "SP500['Date'] = pd.to_datetime(SP500['Date'])\n",
    "SP500.to_csv(data_folder+'S&P500.csv',index = False)\n",
    "SP500.head()"
   ]
  },
  {
   "cell_type": "markdown",
   "metadata": {},
   "source": [
    "### Consumer Price Index\n",
    "#### Source: https://data.oecd.org/price/inflation-cpi.htm"
   ]
  },
  {
   "cell_type": "code",
   "execution_count": 569,
   "metadata": {
    "scrolled": true
   },
   "outputs": [
    {
     "data": {
      "text/html": [
       "<div>\n",
       "<style scoped>\n",
       "    .dataframe tbody tr th:only-of-type {\n",
       "        vertical-align: middle;\n",
       "    }\n",
       "\n",
       "    .dataframe tbody tr th {\n",
       "        vertical-align: top;\n",
       "    }\n",
       "\n",
       "    .dataframe thead th {\n",
       "        text-align: right;\n",
       "    }\n",
       "</style>\n",
       "<table border=\"1\" class=\"dataframe\">\n",
       "  <thead>\n",
       "    <tr style=\"text-align: right;\">\n",
       "      <th></th>\n",
       "      <th>Date</th>\n",
       "      <th>CPI</th>\n",
       "    </tr>\n",
       "  </thead>\n",
       "  <tbody>\n",
       "    <tr>\n",
       "      <th>3291</th>\n",
       "      <td>2009-03-01</td>\n",
       "      <td>-0.383556</td>\n",
       "    </tr>\n",
       "    <tr>\n",
       "      <th>3292</th>\n",
       "      <td>2009-04-01</td>\n",
       "      <td>-0.736886</td>\n",
       "    </tr>\n",
       "    <tr>\n",
       "      <th>3293</th>\n",
       "      <td>2009-05-01</td>\n",
       "      <td>-1.281436</td>\n",
       "    </tr>\n",
       "    <tr>\n",
       "      <th>3294</th>\n",
       "      <td>2009-06-01</td>\n",
       "      <td>-1.426776</td>\n",
       "    </tr>\n",
       "    <tr>\n",
       "      <th>3295</th>\n",
       "      <td>2009-07-01</td>\n",
       "      <td>-2.097161</td>\n",
       "    </tr>\n",
       "  </tbody>\n",
       "</table>\n",
       "</div>"
      ],
      "text/plain": [
       "           Date       CPI\n",
       "3291 2009-03-01 -0.383556\n",
       "3292 2009-04-01 -0.736886\n",
       "3293 2009-05-01 -1.281436\n",
       "3294 2009-06-01 -1.426776\n",
       "3295 2009-07-01 -2.097161"
      ]
     },
     "execution_count": 569,
     "metadata": {},
     "output_type": "execute_result"
    }
   ],
   "source": [
    "CPI = pd.read_csv(data_folder+'CPI_source.csv')\n",
    "CPI = CPI[CPI['LOCATION']=='USA'][['TIME','Value']]#Took the decision to use only US data\n",
    "CPI.columns = ['Date','CPI']\n",
    "CPI['Date'] = pd.to_datetime(CPI['Date'])\n",
    "CPI.to_csv(data_folder+'CPI.csv',index = False) \n",
    "CPI.head()"
   ]
  },
  {
   "cell_type": "markdown",
   "metadata": {},
   "source": [
    "### Unemployement Rate\n",
    "#### Source: https://data.bls.gov/timeseries/lns14000000"
   ]
  },
  {
   "cell_type": "code",
   "execution_count": 570,
   "metadata": {},
   "outputs": [
    {
     "data": {
      "text/html": [
       "<div>\n",
       "<style scoped>\n",
       "    .dataframe tbody tr th:only-of-type {\n",
       "        vertical-align: middle;\n",
       "    }\n",
       "\n",
       "    .dataframe tbody tr th {\n",
       "        vertical-align: top;\n",
       "    }\n",
       "\n",
       "    .dataframe thead th {\n",
       "        text-align: right;\n",
       "    }\n",
       "</style>\n",
       "<table border=\"1\" class=\"dataframe\">\n",
       "  <thead>\n",
       "    <tr style=\"text-align: right;\">\n",
       "      <th></th>\n",
       "      <th>Date</th>\n",
       "      <th>UR</th>\n",
       "    </tr>\n",
       "  </thead>\n",
       "  <tbody>\n",
       "    <tr>\n",
       "      <th>0</th>\n",
       "      <td>2009-01-01</td>\n",
       "      <td>7,8</td>\n",
       "    </tr>\n",
       "    <tr>\n",
       "      <th>1</th>\n",
       "      <td>2009-02-01</td>\n",
       "      <td>8,3</td>\n",
       "    </tr>\n",
       "    <tr>\n",
       "      <th>2</th>\n",
       "      <td>2009-03-01</td>\n",
       "      <td>8,7</td>\n",
       "    </tr>\n",
       "    <tr>\n",
       "      <th>3</th>\n",
       "      <td>2009-04-01</td>\n",
       "      <td>9,0</td>\n",
       "    </tr>\n",
       "    <tr>\n",
       "      <th>4</th>\n",
       "      <td>2009-05-01</td>\n",
       "      <td>9,4</td>\n",
       "    </tr>\n",
       "  </tbody>\n",
       "</table>\n",
       "</div>"
      ],
      "text/plain": [
       "        Date   UR\n",
       "0 2009-01-01  7,8\n",
       "1 2009-02-01  8,3\n",
       "2 2009-03-01  8,7\n",
       "3 2009-04-01  9,0\n",
       "4 2009-05-01  9,4"
      ]
     },
     "execution_count": 570,
     "metadata": {},
     "output_type": "execute_result"
    }
   ],
   "source": [
    "UR_tab = pd.read_csv(data_folder+'UR_source.csv',sep=';')\n",
    "#Convert the matrix into a dataframe\n",
    "years = np.repeat(UR_tab.Year.values,[12]*11)\n",
    "months = ['01','02','03','04','05','06','07','08','09','10','11','12']*11\n",
    "values = UR_tab.drop(columns = ['Year']).values.ravel()\n",
    "data = {'year': years, 'month':months, 'UR':values}\n",
    "UR = pd.DataFrame(data = data)\n",
    "#Add date column\n",
    "UR['Date'] = UR.apply(lambda x: str(x['year'])+'-'+x['month'],axis = 1)\n",
    "UR = UR[['Date','UR']]\n",
    "UR['Date'] = pd.to_datetime(UR['Date'])\n",
    "UR.to_csv(data_folder+'UR.csv',index = False)\n",
    "UR.head()"
   ]
  },
  {
   "cell_type": "markdown",
   "metadata": {},
   "source": [
    "### Purchasing Management Index"
   ]
  },
  {
   "cell_type": "code",
   "execution_count": 571,
   "metadata": {
    "scrolled": true
   },
   "outputs": [
    {
     "data": {
      "text/html": [
       "<div>\n",
       "<style scoped>\n",
       "    .dataframe tbody tr th:only-of-type {\n",
       "        vertical-align: middle;\n",
       "    }\n",
       "\n",
       "    .dataframe tbody tr th {\n",
       "        vertical-align: top;\n",
       "    }\n",
       "\n",
       "    .dataframe thead th {\n",
       "        text-align: right;\n",
       "    }\n",
       "</style>\n",
       "<table border=\"1\" class=\"dataframe\">\n",
       "  <thead>\n",
       "    <tr style=\"text-align: right;\">\n",
       "      <th></th>\n",
       "      <th>Date</th>\n",
       "      <th>PMI</th>\n",
       "    </tr>\n",
       "  </thead>\n",
       "  <tbody>\n",
       "    <tr>\n",
       "      <th>732</th>\n",
       "      <td>2009-01-01</td>\n",
       "      <td>34,9</td>\n",
       "    </tr>\n",
       "    <tr>\n",
       "      <th>733</th>\n",
       "      <td>2009-02-01</td>\n",
       "      <td>35,5</td>\n",
       "    </tr>\n",
       "    <tr>\n",
       "      <th>734</th>\n",
       "      <td>2009-03-01</td>\n",
       "      <td>36,0</td>\n",
       "    </tr>\n",
       "    <tr>\n",
       "      <th>735</th>\n",
       "      <td>2009-04-01</td>\n",
       "      <td>39,5</td>\n",
       "    </tr>\n",
       "    <tr>\n",
       "      <th>736</th>\n",
       "      <td>2009-05-01</td>\n",
       "      <td>41,7</td>\n",
       "    </tr>\n",
       "  </tbody>\n",
       "</table>\n",
       "</div>"
      ],
      "text/plain": [
       "          Date   PMI\n",
       "732 2009-01-01  34,9\n",
       "733 2009-02-01  35,5\n",
       "734 2009-03-01  36,0\n",
       "735 2009-04-01  39,5\n",
       "736 2009-05-01  41,7"
      ]
     },
     "execution_count": 571,
     "metadata": {},
     "output_type": "execute_result"
    }
   ],
   "source": [
    "PMI = pd.read_csv(data_folder+'PMI_source.csv',sep=';')\n",
    "PMI.columns =['Date','PMI']\n",
    "PMI['Date'] = pd.to_datetime(PMI['Date'])\n",
    "PMI = PMI[PMI['Date']>=datetime.strptime('2009-01-01','%Y-%m-%d')]\n",
    "PMI.to_csv(data_folder+'PMI.csv',index = False)\n",
    "PMI.head()"
   ]
  },
  {
   "cell_type": "markdown",
   "metadata": {},
   "source": [
    "### Nikkei 225 index\n",
    "#### Source: https://finance.yahoo.com/quote/%5EN225/history?period1=1242792000&period2=1558324800&interval=1d&filter=history&frequency=1d"
   ]
  },
  {
   "cell_type": "code",
   "execution_count": 572,
   "metadata": {},
   "outputs": [
    {
     "data": {
      "text/html": [
       "<div>\n",
       "<style scoped>\n",
       "    .dataframe tbody tr th:only-of-type {\n",
       "        vertical-align: middle;\n",
       "    }\n",
       "\n",
       "    .dataframe tbody tr th {\n",
       "        vertical-align: top;\n",
       "    }\n",
       "\n",
       "    .dataframe thead th {\n",
       "        text-align: right;\n",
       "    }\n",
       "</style>\n",
       "<table border=\"1\" class=\"dataframe\">\n",
       "  <thead>\n",
       "    <tr style=\"text-align: right;\">\n",
       "      <th></th>\n",
       "      <th>Date</th>\n",
       "      <th>Nikkei225</th>\n",
       "    </tr>\n",
       "  </thead>\n",
       "  <tbody>\n",
       "    <tr>\n",
       "      <th>0</th>\n",
       "      <td>2009-05-20</td>\n",
       "      <td>9344.639648</td>\n",
       "    </tr>\n",
       "    <tr>\n",
       "      <th>1</th>\n",
       "      <td>2009-05-21</td>\n",
       "      <td>9264.150391</td>\n",
       "    </tr>\n",
       "    <tr>\n",
       "      <th>2</th>\n",
       "      <td>2009-05-22</td>\n",
       "      <td>9225.809570</td>\n",
       "    </tr>\n",
       "    <tr>\n",
       "      <th>3</th>\n",
       "      <td>2009-05-25</td>\n",
       "      <td>9347.000000</td>\n",
       "    </tr>\n",
       "    <tr>\n",
       "      <th>4</th>\n",
       "      <td>2009-05-26</td>\n",
       "      <td>9310.809570</td>\n",
       "    </tr>\n",
       "  </tbody>\n",
       "</table>\n",
       "</div>"
      ],
      "text/plain": [
       "        Date    Nikkei225\n",
       "0 2009-05-20  9344.639648\n",
       "1 2009-05-21  9264.150391\n",
       "2 2009-05-22  9225.809570\n",
       "3 2009-05-25  9347.000000\n",
       "4 2009-05-26  9310.809570"
      ]
     },
     "execution_count": 572,
     "metadata": {},
     "output_type": "execute_result"
    }
   ],
   "source": [
    "Nikkei225 = pd.read_csv(data_folder+'Nikkei225_source.csv')\n",
    "Nikkei225 = Nikkei225[['Date','Close']]\n",
    "Nikkei225.columns = ['Date','Nikkei225']\n",
    "Nikkei225['Date'] = pd.to_datetime(Nikkei225['Date'])\n",
    "Nikkei225.to_csv(data_folder+'Nikkei225.csv',index = False)\n",
    "Nikkei225.head()"
   ]
  },
  {
   "cell_type": "markdown",
   "metadata": {},
   "source": [
    "### Volatility Index\n",
    "#### Source: https://finance.yahoo.com/quote/%5EVIX/history?period1=1242792000&period2=1558324800&interval=1d&filter=history&frequency=1d"
   ]
  },
  {
   "cell_type": "code",
   "execution_count": 573,
   "metadata": {},
   "outputs": [
    {
     "data": {
      "text/html": [
       "<div>\n",
       "<style scoped>\n",
       "    .dataframe tbody tr th:only-of-type {\n",
       "        vertical-align: middle;\n",
       "    }\n",
       "\n",
       "    .dataframe tbody tr th {\n",
       "        vertical-align: top;\n",
       "    }\n",
       "\n",
       "    .dataframe thead th {\n",
       "        text-align: right;\n",
       "    }\n",
       "</style>\n",
       "<table border=\"1\" class=\"dataframe\">\n",
       "  <thead>\n",
       "    <tr style=\"text-align: right;\">\n",
       "      <th></th>\n",
       "      <th>Date</th>\n",
       "      <th>VIX</th>\n",
       "    </tr>\n",
       "  </thead>\n",
       "  <tbody>\n",
       "    <tr>\n",
       "      <th>0</th>\n",
       "      <td>2009-05-20</td>\n",
       "      <td>29.030001</td>\n",
       "    </tr>\n",
       "    <tr>\n",
       "      <th>1</th>\n",
       "      <td>2009-05-21</td>\n",
       "      <td>31.350000</td>\n",
       "    </tr>\n",
       "    <tr>\n",
       "      <th>2</th>\n",
       "      <td>2009-05-22</td>\n",
       "      <td>32.630001</td>\n",
       "    </tr>\n",
       "    <tr>\n",
       "      <th>3</th>\n",
       "      <td>2009-05-26</td>\n",
       "      <td>30.620001</td>\n",
       "    </tr>\n",
       "    <tr>\n",
       "      <th>4</th>\n",
       "      <td>2009-05-27</td>\n",
       "      <td>32.360001</td>\n",
       "    </tr>\n",
       "  </tbody>\n",
       "</table>\n",
       "</div>"
      ],
      "text/plain": [
       "        Date        VIX\n",
       "0 2009-05-20  29.030001\n",
       "1 2009-05-21  31.350000\n",
       "2 2009-05-22  32.630001\n",
       "3 2009-05-26  30.620001\n",
       "4 2009-05-27  32.360001"
      ]
     },
     "execution_count": 573,
     "metadata": {},
     "output_type": "execute_result"
    }
   ],
   "source": [
    "VIX = pd.read_csv(data_folder+'VIX_source.csv')\n",
    "VIX = VIX[['Date','Close']]\n",
    "VIX.columns = ['Date','VIX']\n",
    "VIX['Date'] = pd.to_datetime(VIX['Date'])\n",
    "VIX.to_csv(data_folder+'VIX.csv',index = False)\n",
    "VIX.head()"
   ]
  },
  {
   "cell_type": "markdown",
   "metadata": {},
   "source": [
    "### Effective Federal Fund Rate\n",
    "#### Source: https://apps.newyorkfed.org/markets/autorates/fed-funds-search-result-page"
   ]
  },
  {
   "cell_type": "code",
   "execution_count": 574,
   "metadata": {},
   "outputs": [
    {
     "data": {
      "text/html": [
       "<div>\n",
       "<style scoped>\n",
       "    .dataframe tbody tr th:only-of-type {\n",
       "        vertical-align: middle;\n",
       "    }\n",
       "\n",
       "    .dataframe tbody tr th {\n",
       "        vertical-align: top;\n",
       "    }\n",
       "\n",
       "    .dataframe thead th {\n",
       "        text-align: right;\n",
       "    }\n",
       "</style>\n",
       "<table border=\"1\" class=\"dataframe\">\n",
       "  <thead>\n",
       "    <tr style=\"text-align: right;\">\n",
       "      <th></th>\n",
       "      <th>Date</th>\n",
       "      <th>EFFR</th>\n",
       "    </tr>\n",
       "  </thead>\n",
       "  <tbody>\n",
       "    <tr>\n",
       "      <th>0</th>\n",
       "      <td>2019-05-20</td>\n",
       "      <td>2,39</td>\n",
       "    </tr>\n",
       "    <tr>\n",
       "      <th>1</th>\n",
       "      <td>2019-05-17</td>\n",
       "      <td>2,39</td>\n",
       "    </tr>\n",
       "    <tr>\n",
       "      <th>2</th>\n",
       "      <td>2019-05-16</td>\n",
       "      <td>2,39</td>\n",
       "    </tr>\n",
       "    <tr>\n",
       "      <th>3</th>\n",
       "      <td>2019-05-15</td>\n",
       "      <td>2,4</td>\n",
       "    </tr>\n",
       "    <tr>\n",
       "      <th>4</th>\n",
       "      <td>2019-05-14</td>\n",
       "      <td>2,38</td>\n",
       "    </tr>\n",
       "  </tbody>\n",
       "</table>\n",
       "</div>"
      ],
      "text/plain": [
       "        Date  EFFR\n",
       "0 2019-05-20  2,39\n",
       "1 2019-05-17  2,39\n",
       "2 2019-05-16  2,39\n",
       "3 2019-05-15   2,4\n",
       "4 2019-05-14  2,38"
      ]
     },
     "execution_count": 574,
     "metadata": {},
     "output_type": "execute_result"
    }
   ],
   "source": [
    "#EFFR\n",
    "#Source: https://apps.newyorkfed.org/markets/autorates/fed-funds-search-result-page\n",
    "EFFR = pd.read_csv(data_folder+'EFFR_source.csv',sep=';')\n",
    "EFFR.columns = ['Date','Volume','EFFR']\n",
    "EFFR.drop(columns = ['Volume'],inplace = True)\n",
    "EFFR = EFFR.iloc[0:2514]\n",
    "def convert_date(date):\n",
    "    try:\n",
    "        return(datetime.strptime(date,'%d/%m/%Y'))\n",
    "    except:\n",
    "        return(datetime.strptime(date,'%Y-%m-%d[r]'))\n",
    "EFFR['Date'] = EFFR['Date'].apply(lambda x: convert_date(x))\n",
    "EFFR.to_csv(data_folder+'EFFR.csv',index = False)\n",
    "EFFR.head()\n"
   ]
  },
  {
   "cell_type": "markdown",
   "metadata": {},
   "source": [
    "### VIX Votality Index\n",
    "#### Source: https://finance.yahoo.com/quote/%5EVVIX/history?period1=1242792000&period2=1558324800&interval=1d&filter=history&frequency=1d"
   ]
  },
  {
   "cell_type": "code",
   "execution_count": 575,
   "metadata": {},
   "outputs": [
    {
     "data": {
      "text/html": [
       "<div>\n",
       "<style scoped>\n",
       "    .dataframe tbody tr th:only-of-type {\n",
       "        vertical-align: middle;\n",
       "    }\n",
       "\n",
       "    .dataframe tbody tr th {\n",
       "        vertical-align: top;\n",
       "    }\n",
       "\n",
       "    .dataframe thead th {\n",
       "        text-align: right;\n",
       "    }\n",
       "</style>\n",
       "<table border=\"1\" class=\"dataframe\">\n",
       "  <thead>\n",
       "    <tr style=\"text-align: right;\">\n",
       "      <th></th>\n",
       "      <th>Date</th>\n",
       "      <th>VVIX</th>\n",
       "    </tr>\n",
       "  </thead>\n",
       "  <tbody>\n",
       "    <tr>\n",
       "      <th>0</th>\n",
       "      <td>2009-05-20</td>\n",
       "      <td>77.449997</td>\n",
       "    </tr>\n",
       "    <tr>\n",
       "      <th>1</th>\n",
       "      <td>2009-05-21</td>\n",
       "      <td>84.690002</td>\n",
       "    </tr>\n",
       "    <tr>\n",
       "      <th>2</th>\n",
       "      <td>2009-05-22</td>\n",
       "      <td>87.279999</td>\n",
       "    </tr>\n",
       "    <tr>\n",
       "      <th>3</th>\n",
       "      <td>2009-05-26</td>\n",
       "      <td>91.230003</td>\n",
       "    </tr>\n",
       "    <tr>\n",
       "      <th>4</th>\n",
       "      <td>2009-05-27</td>\n",
       "      <td>90.860001</td>\n",
       "    </tr>\n",
       "  </tbody>\n",
       "</table>\n",
       "</div>"
      ],
      "text/plain": [
       "        Date       VVIX\n",
       "0 2009-05-20  77.449997\n",
       "1 2009-05-21  84.690002\n",
       "2 2009-05-22  87.279999\n",
       "3 2009-05-26  91.230003\n",
       "4 2009-05-27  90.860001"
      ]
     },
     "execution_count": 575,
     "metadata": {},
     "output_type": "execute_result"
    }
   ],
   "source": [
    "#VVIX\n",
    "#Source: https://finance.yahoo.com/quote/%5EVVIX/history?period1=1242792000&period2=1558324800&interval=1d&filter=history&frequency=1d\n",
    "VVIX = pd.read_csv(data_folder+'VVIX_source.csv')\n",
    "VVIX = VVIX[['Date','Close']]\n",
    "VVIX.columns = ['Date','VVIX']\n",
    "VVIX['Date'] = pd.to_datetime(VVIX['Date'])\n",
    "VVIX.to_csv(data_folder+'VVIX.csv',index = False)\n",
    "VVIX.head()"
   ]
  },
  {
   "cell_type": "code",
   "execution_count": 576,
   "metadata": {},
   "outputs": [],
   "source": [
    "# STEP 2:\n",
    "# Data processing\n",
    "# please concat all dataframes you just collected, and do the following processing\n",
    "#   1. handle Nan value.\n",
    "#   2. handle outlier. (you can use MAD, 3 sigma or other methods)"
   ]
  },
  {
   "cell_type": "markdown",
   "metadata": {},
   "source": [
    "## Data Processing\n",
    "#### Set Date as index"
   ]
  },
  {
   "cell_type": "code",
   "execution_count": 577,
   "metadata": {},
   "outputs": [],
   "source": [
    "# Write you data processing code below\n",
    "SP500.set_index('Date',inplace = True)\n",
    "CPI.set_index('Date',inplace = True)\n",
    "UR.set_index('Date',inplace = True)\n",
    "PMI.set_index('Date',inplace = True)\n",
    "Nikkei225.set_index('Date',inplace = True)\n",
    "VIX.set_index('Date',inplace = True)\n",
    "EFFR.set_index('Date',inplace = True)\n",
    "VVIX.set_index('Date',inplace = True)"
   ]
  },
  {
   "cell_type": "markdown",
   "metadata": {},
   "source": [
    "#### Concatenate all the databases"
   ]
  },
  {
   "cell_type": "code",
   "execution_count": 578,
   "metadata": {},
   "outputs": [],
   "source": [
    "data = pd.concat([SP500,CPI,UR,PMI,Nikkei225,VIX,EFFR,VVIX],axis = 1)"
   ]
  },
  {
   "cell_type": "code",
   "execution_count": 579,
   "metadata": {
    "scrolled": true
   },
   "outputs": [
    {
     "data": {
      "text/html": [
       "<div>\n",
       "<style scoped>\n",
       "    .dataframe tbody tr th:only-of-type {\n",
       "        vertical-align: middle;\n",
       "    }\n",
       "\n",
       "    .dataframe tbody tr th {\n",
       "        vertical-align: top;\n",
       "    }\n",
       "\n",
       "    .dataframe thead th {\n",
       "        text-align: right;\n",
       "    }\n",
       "</style>\n",
       "<table border=\"1\" class=\"dataframe\">\n",
       "  <thead>\n",
       "    <tr style=\"text-align: right;\">\n",
       "      <th></th>\n",
       "      <th>S&amp;P500</th>\n",
       "      <th>CPI</th>\n",
       "      <th>UR</th>\n",
       "      <th>PMI</th>\n",
       "      <th>Nikkei225</th>\n",
       "      <th>VIX</th>\n",
       "      <th>EFFR</th>\n",
       "      <th>VVIX</th>\n",
       "    </tr>\n",
       "    <tr>\n",
       "      <th>Date</th>\n",
       "      <th></th>\n",
       "      <th></th>\n",
       "      <th></th>\n",
       "      <th></th>\n",
       "      <th></th>\n",
       "      <th></th>\n",
       "      <th></th>\n",
       "      <th></th>\n",
       "    </tr>\n",
       "  </thead>\n",
       "  <tbody>\n",
       "    <tr>\n",
       "      <th>2009-01-01</th>\n",
       "      <td>NaN</td>\n",
       "      <td>NaN</td>\n",
       "      <td>7,8</td>\n",
       "      <td>34,9</td>\n",
       "      <td>NaN</td>\n",
       "      <td>NaN</td>\n",
       "      <td>NaN</td>\n",
       "      <td>NaN</td>\n",
       "    </tr>\n",
       "    <tr>\n",
       "      <th>2009-02-01</th>\n",
       "      <td>NaN</td>\n",
       "      <td>NaN</td>\n",
       "      <td>8,3</td>\n",
       "      <td>35,5</td>\n",
       "      <td>NaN</td>\n",
       "      <td>NaN</td>\n",
       "      <td>NaN</td>\n",
       "      <td>NaN</td>\n",
       "    </tr>\n",
       "    <tr>\n",
       "      <th>2009-03-01</th>\n",
       "      <td>NaN</td>\n",
       "      <td>-0.383556</td>\n",
       "      <td>8,7</td>\n",
       "      <td>36,0</td>\n",
       "      <td>NaN</td>\n",
       "      <td>NaN</td>\n",
       "      <td>NaN</td>\n",
       "      <td>NaN</td>\n",
       "    </tr>\n",
       "    <tr>\n",
       "      <th>2009-04-01</th>\n",
       "      <td>NaN</td>\n",
       "      <td>-0.736886</td>\n",
       "      <td>9,0</td>\n",
       "      <td>39,5</td>\n",
       "      <td>NaN</td>\n",
       "      <td>NaN</td>\n",
       "      <td>NaN</td>\n",
       "      <td>NaN</td>\n",
       "    </tr>\n",
       "    <tr>\n",
       "      <th>2009-05-01</th>\n",
       "      <td>NaN</td>\n",
       "      <td>-1.281436</td>\n",
       "      <td>9,4</td>\n",
       "      <td>41,7</td>\n",
       "      <td>NaN</td>\n",
       "      <td>NaN</td>\n",
       "      <td>NaN</td>\n",
       "      <td>NaN</td>\n",
       "    </tr>\n",
       "    <tr>\n",
       "      <th>2009-05-20</th>\n",
       "      <td>NaN</td>\n",
       "      <td>NaN</td>\n",
       "      <td>NaN</td>\n",
       "      <td>NaN</td>\n",
       "      <td>9344.639648</td>\n",
       "      <td>29.030001</td>\n",
       "      <td>0,14</td>\n",
       "      <td>77.449997</td>\n",
       "    </tr>\n",
       "    <tr>\n",
       "      <th>2009-05-21</th>\n",
       "      <td>888.330017</td>\n",
       "      <td>NaN</td>\n",
       "      <td>NaN</td>\n",
       "      <td>NaN</td>\n",
       "      <td>9264.150391</td>\n",
       "      <td>31.350000</td>\n",
       "      <td>0,17</td>\n",
       "      <td>84.690002</td>\n",
       "    </tr>\n",
       "    <tr>\n",
       "      <th>2009-05-22</th>\n",
       "      <td>887.000000</td>\n",
       "      <td>NaN</td>\n",
       "      <td>NaN</td>\n",
       "      <td>NaN</td>\n",
       "      <td>9225.809570</td>\n",
       "      <td>32.630001</td>\n",
       "      <td>0,17</td>\n",
       "      <td>87.279999</td>\n",
       "    </tr>\n",
       "    <tr>\n",
       "      <th>2009-05-25</th>\n",
       "      <td>NaN</td>\n",
       "      <td>NaN</td>\n",
       "      <td>NaN</td>\n",
       "      <td>NaN</td>\n",
       "      <td>9347.000000</td>\n",
       "      <td>NaN</td>\n",
       "      <td>NaN</td>\n",
       "      <td>NaN</td>\n",
       "    </tr>\n",
       "    <tr>\n",
       "      <th>2009-05-26</th>\n",
       "      <td>910.330017</td>\n",
       "      <td>NaN</td>\n",
       "      <td>NaN</td>\n",
       "      <td>NaN</td>\n",
       "      <td>9310.809570</td>\n",
       "      <td>30.620001</td>\n",
       "      <td>0,18</td>\n",
       "      <td>91.230003</td>\n",
       "    </tr>\n",
       "  </tbody>\n",
       "</table>\n",
       "</div>"
      ],
      "text/plain": [
       "                S&P500       CPI   UR   PMI    Nikkei225        VIX  EFFR  \\\n",
       "Date                                                                        \n",
       "2009-01-01         NaN       NaN  7,8  34,9          NaN        NaN   NaN   \n",
       "2009-02-01         NaN       NaN  8,3  35,5          NaN        NaN   NaN   \n",
       "2009-03-01         NaN -0.383556  8,7  36,0          NaN        NaN   NaN   \n",
       "2009-04-01         NaN -0.736886  9,0  39,5          NaN        NaN   NaN   \n",
       "2009-05-01         NaN -1.281436  9,4  41,7          NaN        NaN   NaN   \n",
       "2009-05-20         NaN       NaN  NaN   NaN  9344.639648  29.030001  0,14   \n",
       "2009-05-21  888.330017       NaN  NaN   NaN  9264.150391  31.350000  0,17   \n",
       "2009-05-22  887.000000       NaN  NaN   NaN  9225.809570  32.630001  0,17   \n",
       "2009-05-25         NaN       NaN  NaN   NaN  9347.000000        NaN   NaN   \n",
       "2009-05-26  910.330017       NaN  NaN   NaN  9310.809570  30.620001  0,18   \n",
       "\n",
       "                 VVIX  \n",
       "Date                   \n",
       "2009-01-01        NaN  \n",
       "2009-02-01        NaN  \n",
       "2009-03-01        NaN  \n",
       "2009-04-01        NaN  \n",
       "2009-05-01        NaN  \n",
       "2009-05-20  77.449997  \n",
       "2009-05-21  84.690002  \n",
       "2009-05-22  87.279999  \n",
       "2009-05-25        NaN  \n",
       "2009-05-26  91.230003  "
      ]
     },
     "execution_count": 579,
     "metadata": {},
     "output_type": "execute_result"
    }
   ],
   "source": [
    "data.head(10)"
   ]
  },
  {
   "cell_type": "code",
   "execution_count": 580,
   "metadata": {},
   "outputs": [
    {
     "data": {
      "text/plain": [
       "2652"
      ]
     },
     "execution_count": 580,
     "metadata": {},
     "output_type": "execute_result"
    }
   ],
   "source": [
    "data.shape[0]"
   ]
  },
  {
   "cell_type": "markdown",
   "metadata": {},
   "source": [
    "#### Filling the monthly features"
   ]
  },
  {
   "cell_type": "code",
   "execution_count": 581,
   "metadata": {},
   "outputs": [],
   "source": [
    "data[['CPI','UR','PMI']] = data[['CPI','UR','PMI']].ffill()"
   ]
  },
  {
   "cell_type": "markdown",
   "metadata": {},
   "source": [
    "#### Drop the remaining NaNs"
   ]
  },
  {
   "cell_type": "code",
   "execution_count": 582,
   "metadata": {},
   "outputs": [],
   "source": [
    "data.dropna(inplace = True)"
   ]
  },
  {
   "cell_type": "code",
   "execution_count": 583,
   "metadata": {},
   "outputs": [
    {
     "data": {
      "text/plain": [
       "2356"
      ]
     },
     "execution_count": 583,
     "metadata": {},
     "output_type": "execute_result"
    }
   ],
   "source": [
    "data.shape[0]"
   ]
  },
  {
   "cell_type": "markdown",
   "metadata": {},
   "source": [
    "#### Replace str values by floats"
   ]
  },
  {
   "cell_type": "code",
   "execution_count": 584,
   "metadata": {},
   "outputs": [],
   "source": [
    "data.UR = data.UR.apply(lambda x: float(x.replace(',','.')))\n",
    "data.PMI = data.PMI.apply(lambda x:float(x.replace(',','.')))\n",
    "data.EFFR = data.EFFR.apply(lambda x:float(x.replace(',','.')))"
   ]
  },
  {
   "cell_type": "markdown",
   "metadata": {},
   "source": [
    "### Outliers handling\n",
    "#### S&P500"
   ]
  },
  {
   "cell_type": "code",
   "execution_count": 585,
   "metadata": {},
   "outputs": [
    {
     "name": "stderr",
     "output_type": "stream",
     "text": [
      "C:\\Users\\antoi\\Anaconda3\\lib\\site-packages\\matplotlib\\axes\\_axes.py:6499: MatplotlibDeprecationWarning: \n",
      "The 'normed' kwarg was deprecated in Matplotlib 2.1 and will be removed in 3.1. Use 'density' instead.\n",
      "  alternative=\"'density'\", removal=\"3.1\")\n"
     ]
    },
    {
     "data": {
      "image/png": "[encoded data removed]",
      "text/plain": [
       "<Figure size 432x288 with 1 Axes>"
      ]
     },
     "metadata": {},
     "output_type": "display_data"
    }
   ],
   "source": [
    "sns.distplot(data['S&P500'])\n",
    "plt.title('S&P500 values distribution')\n",
    "plt.show()"
   ]
  },
  {
   "cell_type": "markdown",
   "metadata": {},
   "source": [
    "According to the distribution there are no outliers"
   ]
  },
  {
   "cell_type": "markdown",
   "metadata": {},
   "source": [
    "#### CPI"
   ]
  },
  {
   "cell_type": "code",
   "execution_count": 586,
   "metadata": {},
   "outputs": [
    {
     "name": "stderr",
     "output_type": "stream",
     "text": [
      "C:\\Users\\antoi\\Anaconda3\\lib\\site-packages\\matplotlib\\axes\\_axes.py:6499: MatplotlibDeprecationWarning: \n",
      "The 'normed' kwarg was deprecated in Matplotlib 2.1 and will be removed in 3.1. Use 'density' instead.\n",
      "  alternative=\"'density'\", removal=\"3.1\")\n"
     ]
    },
    {
     "data": {
      "image/png": "[encoded data removed]",
      "text/plain": [
       "<Figure size 432x288 with 1 Axes>"
      ]
     },
     "metadata": {},
     "output_type": "display_data"
    }
   ],
   "source": [
    "sns.distplot(data.CPI)\n",
    "plt.title('CPI values distribution')\n",
    "plt.show()"
   ]
  },
  {
   "cell_type": "markdown",
   "metadata": {},
   "source": [
    "There are some outliers in the negative values. I will drop those under 3 standard deviation."
   ]
  },
  {
   "cell_type": "code",
   "execution_count": 587,
   "metadata": {},
   "outputs": [
    {
     "name": "stdout",
     "output_type": "stream",
     "text": [
      "number of rows below 3 std: 21\n"
     ]
    }
   ],
   "source": [
    "CPIstd = data.CPI.std()\n",
    "CPImu = data.CPI.mean()\n",
    "print('number of rows below 3 std:',data[(data.CPI < CPImu-3*CPIstd)].shape[0])"
   ]
  },
  {
   "cell_type": "code",
   "execution_count": 588,
   "metadata": {},
   "outputs": [],
   "source": [
    "data = data[(data.CPI >= CPImu-3*CPIstd)]"
   ]
  },
  {
   "cell_type": "code",
   "execution_count": 589,
   "metadata": {},
   "outputs": [
    {
     "name": "stdout",
     "output_type": "stream",
     "text": [
      "number of rows above 3 std: 0\n"
     ]
    }
   ],
   "source": [
    "print('number of rows above 3 std:',data[(data.CPI > CPImu+3*CPIstd)].shape[0])"
   ]
  },
  {
   "cell_type": "markdown",
   "metadata": {},
   "source": [
    "#### Unemployement Rate"
   ]
  },
  {
   "cell_type": "code",
   "execution_count": 591,
   "metadata": {},
   "outputs": [
    {
     "name": "stderr",
     "output_type": "stream",
     "text": [
      "C:\\Users\\antoi\\Anaconda3\\lib\\site-packages\\matplotlib\\axes\\_axes.py:6499: MatplotlibDeprecationWarning: \n",
      "The 'normed' kwarg was deprecated in Matplotlib 2.1 and will be removed in 3.1. Use 'density' instead.\n",
      "  alternative=\"'density'\", removal=\"3.1\")\n"
     ]
    },
    {
     "data": {
      "image/png": "[encoded data removed]",
      "text/plain": [
       "<Figure size 432x288 with 1 Axes>"
      ]
     },
     "metadata": {},
     "output_type": "display_data"
    }
   ],
   "source": [
    "sns.distplot(data.UR)\n",
    "plt.title('Unemployement Rate values distribution')\n",
    "plt.show()"
   ]
  },
  {
   "cell_type": "markdown",
   "metadata": {},
   "source": [
    "No outlier appearing in the distribution"
   ]
  },
  {
   "cell_type": "markdown",
   "metadata": {},
   "source": [
    "#### PMI"
   ]
  },
  {
   "cell_type": "code",
   "execution_count": 593,
   "metadata": {},
   "outputs": [
    {
     "name": "stderr",
     "output_type": "stream",
     "text": [
      "C:\\Users\\antoi\\Anaconda3\\lib\\site-packages\\matplotlib\\axes\\_axes.py:6499: MatplotlibDeprecationWarning: \n",
      "The 'normed' kwarg was deprecated in Matplotlib 2.1 and will be removed in 3.1. Use 'density' instead.\n",
      "  alternative=\"'density'\", removal=\"3.1\")\n"
     ]
    },
    {
     "data": {
      "image/png": "[encoded data removed]",
      "text/plain": [
       "<Figure size 432x288 with 1 Axes>"
      ]
     },
     "metadata": {},
     "output_type": "display_data"
    }
   ],
   "source": [
    "sns.distplot(data.PMI)\n",
    "plt.title('PMI values distribution')\n",
    "plt.show()"
   ]
  },
  {
   "cell_type": "code",
   "execution_count": 594,
   "metadata": {},
   "outputs": [
    {
     "name": "stdout",
     "output_type": "stream",
     "text": [
      "number of rows below 3 std: 6\n"
     ]
    }
   ],
   "source": [
    "PMIstd = data.PMI.std()\n",
    "PMImu = data.PMI.mean()\n",
    "print('number of rows below 3 std:',data[(data.PMI < PMImu-3*PMIstd)].shape[0])"
   ]
  },
  {
   "cell_type": "code",
   "execution_count": 595,
   "metadata": {},
   "outputs": [],
   "source": [
    "data = data[(data.PMI >= PMImu-3*PMIstd)]"
   ]
  },
  {
   "cell_type": "code",
   "execution_count": 597,
   "metadata": {},
   "outputs": [
    {
     "name": "stdout",
     "output_type": "stream",
     "text": [
      "number of rows above 3 std: 0\n"
     ]
    }
   ],
   "source": [
    "print('number of rows above 3 std:',data[(data.PMI > PMImu+3*PMIstd)].shape[0])"
   ]
  },
  {
   "cell_type": "markdown",
   "metadata": {},
   "source": [
    "#### Nikkei 225 index"
   ]
  },
  {
   "cell_type": "code",
   "execution_count": 598,
   "metadata": {},
   "outputs": [
    {
     "name": "stderr",
     "output_type": "stream",
     "text": [
      "C:\\Users\\antoi\\Anaconda3\\lib\\site-packages\\matplotlib\\axes\\_axes.py:6499: MatplotlibDeprecationWarning: \n",
      "The 'normed' kwarg was deprecated in Matplotlib 2.1 and will be removed in 3.1. Use 'density' instead.\n",
      "  alternative=\"'density'\", removal=\"3.1\")\n"
     ]
    },
    {
     "data": {
      "text/plain": [
       "[]"
      ]
     },
     "execution_count": 598,
     "metadata": {},
     "output_type": "execute_result"
    },
    {
     "data": {
      "image/png": "[encoded data removed]",
      "text/plain": [
       "<Figure size 432x288 with 1 Axes>"
      ]
     },
     "metadata": {},
     "output_type": "display_data"
    }
   ],
   "source": [
    "sns.distplot(data.Nikkei225)\n",
    "plt.title('Nikkei225 values distribution')\n",
    "plt.plot()"
   ]
  },
  {
   "cell_type": "markdown",
   "metadata": {},
   "source": [
    "No outliers appearing in the distribution"
   ]
  },
  {
   "cell_type": "markdown",
   "metadata": {},
   "source": [
    "#### VIX"
   ]
  },
  {
   "cell_type": "code",
   "execution_count": 599,
   "metadata": {},
   "outputs": [
    {
     "name": "stderr",
     "output_type": "stream",
     "text": [
      "C:\\Users\\antoi\\Anaconda3\\lib\\site-packages\\matplotlib\\axes\\_axes.py:6499: MatplotlibDeprecationWarning: \n",
      "The 'normed' kwarg was deprecated in Matplotlib 2.1 and will be removed in 3.1. Use 'density' instead.\n",
      "  alternative=\"'density'\", removal=\"3.1\")\n"
     ]
    },
    {
     "data": {
      "image/png": "[encoded data removed]",
      "text/plain": [
       "<Figure size 432x288 with 1 Axes>"
      ]
     },
     "metadata": {},
     "output_type": "display_data"
    }
   ],
   "source": [
    "sns.distplot(data.VIX)\n",
    "plt.title('VIX values distribution')\n",
    "plt.show()"
   ]
  },
  {
   "cell_type": "markdown",
   "metadata": {},
   "source": [
    "The distribution is very clean I won't drop any outlier"
   ]
  },
  {
   "cell_type": "markdown",
   "metadata": {},
   "source": [
    "#### EFFR"
   ]
  },
  {
   "cell_type": "code",
   "execution_count": 602,
   "metadata": {},
   "outputs": [
    {
     "name": "stderr",
     "output_type": "stream",
     "text": [
      "C:\\Users\\antoi\\Anaconda3\\lib\\site-packages\\matplotlib\\axes\\_axes.py:6499: MatplotlibDeprecationWarning: \n",
      "The 'normed' kwarg was deprecated in Matplotlib 2.1 and will be removed in 3.1. Use 'density' instead.\n",
      "  alternative=\"'density'\", removal=\"3.1\")\n"
     ]
    },
    {
     "data": {
      "image/png": "[encoded data removed]",
      "text/plain": [
       "<Figure size 432x288 with 1 Axes>"
      ]
     },
     "metadata": {},
     "output_type": "display_data"
    }
   ],
   "source": [
    "sns.distplot(data.EFFR)\n",
    "plt.title('EFFR values distribution')\n",
    "plt.show()"
   ]
  },
  {
   "cell_type": "markdown",
   "metadata": {},
   "source": [
    "Due to the particularity of the distribution I won't drop any outlier"
   ]
  },
  {
   "cell_type": "markdown",
   "metadata": {},
   "source": [
    "#### VVIX"
   ]
  },
  {
   "cell_type": "code",
   "execution_count": 601,
   "metadata": {},
   "outputs": [
    {
     "name": "stderr",
     "output_type": "stream",
     "text": [
      "C:\\Users\\antoi\\Anaconda3\\lib\\site-packages\\matplotlib\\axes\\_axes.py:6499: MatplotlibDeprecationWarning: \n",
      "The 'normed' kwarg was deprecated in Matplotlib 2.1 and will be removed in 3.1. Use 'density' instead.\n",
      "  alternative=\"'density'\", removal=\"3.1\")\n"
     ]
    },
    {
     "data": {
      "image/png": "[encoded data removed]",
      "text/plain": [
       "<Figure size 432x288 with 1 Axes>"
      ]
     },
     "metadata": {},
     "output_type": "display_data"
    }
   ],
   "source": [
    "sns.distplot(data.VVIX)\n",
    "plt.title('VVIX values distribution')\n",
    "plt.show()"
   ]
  },
  {
   "cell_type": "markdown",
   "metadata": {},
   "source": [
    "The distribution is very clean, no outliers. "
   ]
  },
  {
   "cell_type": "code",
   "execution_count": 603,
   "metadata": {},
   "outputs": [
    {
     "data": {
      "text/html": [
       "<div>\n",
       "<style scoped>\n",
       "    .dataframe tbody tr th:only-of-type {\n",
       "        vertical-align: middle;\n",
       "    }\n",
       "\n",
       "    .dataframe tbody tr th {\n",
       "        vertical-align: top;\n",
       "    }\n",
       "\n",
       "    .dataframe thead th {\n",
       "        text-align: right;\n",
       "    }\n",
       "</style>\n",
       "<table border=\"1\" class=\"dataframe\">\n",
       "  <thead>\n",
       "    <tr style=\"text-align: right;\">\n",
       "      <th></th>\n",
       "      <th>S&amp;P500</th>\n",
       "      <th>CPI</th>\n",
       "      <th>UR</th>\n",
       "      <th>PMI</th>\n",
       "      <th>Nikkei225</th>\n",
       "      <th>VIX</th>\n",
       "      <th>EFFR</th>\n",
       "      <th>VVIX</th>\n",
       "    </tr>\n",
       "    <tr>\n",
       "      <th>Date</th>\n",
       "      <th></th>\n",
       "      <th></th>\n",
       "      <th></th>\n",
       "      <th></th>\n",
       "      <th></th>\n",
       "      <th></th>\n",
       "      <th></th>\n",
       "      <th></th>\n",
       "    </tr>\n",
       "  </thead>\n",
       "  <tbody>\n",
       "    <tr>\n",
       "      <th>2009-06-01</th>\n",
       "      <td>942.869995</td>\n",
       "      <td>-1.426776</td>\n",
       "      <td>9.5</td>\n",
       "      <td>45.8</td>\n",
       "      <td>9677.750000</td>\n",
       "      <td>30.040001</td>\n",
       "      <td>0.21</td>\n",
       "      <td>84.230003</td>\n",
       "    </tr>\n",
       "    <tr>\n",
       "      <th>2009-06-02</th>\n",
       "      <td>944.739990</td>\n",
       "      <td>-1.426776</td>\n",
       "      <td>9.5</td>\n",
       "      <td>45.8</td>\n",
       "      <td>9704.309570</td>\n",
       "      <td>29.629999</td>\n",
       "      <td>0.20</td>\n",
       "      <td>83.820000</td>\n",
       "    </tr>\n",
       "    <tr>\n",
       "      <th>2009-06-03</th>\n",
       "      <td>931.760010</td>\n",
       "      <td>-1.426776</td>\n",
       "      <td>9.5</td>\n",
       "      <td>45.8</td>\n",
       "      <td>9741.669922</td>\n",
       "      <td>31.020000</td>\n",
       "      <td>0.21</td>\n",
       "      <td>84.889999</td>\n",
       "    </tr>\n",
       "    <tr>\n",
       "      <th>2009-06-04</th>\n",
       "      <td>942.460022</td>\n",
       "      <td>-1.426776</td>\n",
       "      <td>9.5</td>\n",
       "      <td>45.8</td>\n",
       "      <td>9668.959961</td>\n",
       "      <td>30.180000</td>\n",
       "      <td>0.20</td>\n",
       "      <td>81.260002</td>\n",
       "    </tr>\n",
       "    <tr>\n",
       "      <th>2009-06-05</th>\n",
       "      <td>940.090027</td>\n",
       "      <td>-1.426776</td>\n",
       "      <td>9.5</td>\n",
       "      <td>45.8</td>\n",
       "      <td>9768.009766</td>\n",
       "      <td>29.620001</td>\n",
       "      <td>0.21</td>\n",
       "      <td>82.110001</td>\n",
       "    </tr>\n",
       "  </tbody>\n",
       "</table>\n",
       "</div>"
      ],
      "text/plain": [
       "                S&P500       CPI   UR   PMI    Nikkei225        VIX  EFFR  \\\n",
       "Date                                                                        \n",
       "2009-06-01  942.869995 -1.426776  9.5  45.8  9677.750000  30.040001  0.21   \n",
       "2009-06-02  944.739990 -1.426776  9.5  45.8  9704.309570  29.629999  0.20   \n",
       "2009-06-03  931.760010 -1.426776  9.5  45.8  9741.669922  31.020000  0.21   \n",
       "2009-06-04  942.460022 -1.426776  9.5  45.8  9668.959961  30.180000  0.20   \n",
       "2009-06-05  940.090027 -1.426776  9.5  45.8  9768.009766  29.620001  0.21   \n",
       "\n",
       "                 VVIX  \n",
       "Date                   \n",
       "2009-06-01  84.230003  \n",
       "2009-06-02  83.820000  \n",
       "2009-06-03  84.889999  \n",
       "2009-06-04  81.260002  \n",
       "2009-06-05  82.110001  "
      ]
     },
     "execution_count": 603,
     "metadata": {},
     "output_type": "execute_result"
    }
   ],
   "source": [
    "data.head()"
   ]
  },
  {
   "cell_type": "code",
   "execution_count": 605,
   "metadata": {},
   "outputs": [
    {
     "name": "stdout",
     "output_type": "stream",
     "text": [
      "The first date of data is: 2009-06-01 00:00:00\n",
      "The last date of data is: 2019-05-20 00:00:00\n"
     ]
    }
   ],
   "source": [
    "print('The first date of data is:',data.index.min())\n",
    "print('The last date of data is:',data.index.max())"
   ]
  },
  {
   "cell_type": "code",
   "execution_count": 608,
   "metadata": {},
   "outputs": [
    {
     "name": "stdout",
     "output_type": "stream",
     "text": [
      "We have here 3640 days of data which almost 10 years\n"
     ]
    }
   ],
   "source": [
    "print('We have here',(data.index.max()-data.index.min()).days,'days of data which almost 10 years')"
   ]
  },
  {
   "cell_type": "markdown",
   "metadata": {},
   "source": [
    "### Adding Feature and shifting"
   ]
  },
  {
   "cell_type": "markdown",
   "metadata": {},
   "source": [
    "#### Adding return for S&P500 and Nikkei 225 and shifting everything to predict next day's return"
   ]
  },
  {
   "cell_type": "code",
   "execution_count": 609,
   "metadata": {},
   "outputs": [
    {
     "data": {
      "text/html": [
       "<div>\n",
       "<style scoped>\n",
       "    .dataframe tbody tr th:only-of-type {\n",
       "        vertical-align: middle;\n",
       "    }\n",
       "\n",
       "    .dataframe tbody tr th {\n",
       "        vertical-align: top;\n",
       "    }\n",
       "\n",
       "    .dataframe thead th {\n",
       "        text-align: right;\n",
       "    }\n",
       "</style>\n",
       "<table border=\"1\" class=\"dataframe\">\n",
       "  <thead>\n",
       "    <tr style=\"text-align: right;\">\n",
       "      <th></th>\n",
       "      <th>S&amp;P500</th>\n",
       "      <th>CPI</th>\n",
       "      <th>UR</th>\n",
       "      <th>PMI</th>\n",
       "      <th>Nikkei225</th>\n",
       "      <th>VIX</th>\n",
       "      <th>EFFR</th>\n",
       "      <th>VVIX</th>\n",
       "      <th>S&amp;P_return</th>\n",
       "      <th>Nikkei225_return_d1</th>\n",
       "      <th>S&amp;P_return_d1</th>\n",
       "    </tr>\n",
       "    <tr>\n",
       "      <th>Date</th>\n",
       "      <th></th>\n",
       "      <th></th>\n",
       "      <th></th>\n",
       "      <th></th>\n",
       "      <th></th>\n",
       "      <th></th>\n",
       "      <th></th>\n",
       "      <th></th>\n",
       "      <th></th>\n",
       "      <th></th>\n",
       "      <th></th>\n",
       "    </tr>\n",
       "  </thead>\n",
       "  <tbody>\n",
       "    <tr>\n",
       "      <th>2009-06-01</th>\n",
       "      <td>942.869995</td>\n",
       "      <td>NaN</td>\n",
       "      <td>NaN</td>\n",
       "      <td>NaN</td>\n",
       "      <td>9677.750000</td>\n",
       "      <td>NaN</td>\n",
       "      <td>NaN</td>\n",
       "      <td>NaN</td>\n",
       "      <td>NaN</td>\n",
       "      <td>NaN</td>\n",
       "      <td>NaN</td>\n",
       "    </tr>\n",
       "    <tr>\n",
       "      <th>2009-06-02</th>\n",
       "      <td>944.739990</td>\n",
       "      <td>-1.426776</td>\n",
       "      <td>9.5</td>\n",
       "      <td>45.8</td>\n",
       "      <td>9704.309570</td>\n",
       "      <td>30.040001</td>\n",
       "      <td>0.21</td>\n",
       "      <td>84.230003</td>\n",
       "      <td>0.001983</td>\n",
       "      <td>NaN</td>\n",
       "      <td>NaN</td>\n",
       "    </tr>\n",
       "    <tr>\n",
       "      <th>2009-06-03</th>\n",
       "      <td>931.760010</td>\n",
       "      <td>-1.426776</td>\n",
       "      <td>9.5</td>\n",
       "      <td>45.8</td>\n",
       "      <td>9741.669922</td>\n",
       "      <td>29.629999</td>\n",
       "      <td>0.20</td>\n",
       "      <td>83.820000</td>\n",
       "      <td>-0.013739</td>\n",
       "      <td>0.002744</td>\n",
       "      <td>0.001983</td>\n",
       "    </tr>\n",
       "    <tr>\n",
       "      <th>2009-06-04</th>\n",
       "      <td>942.460022</td>\n",
       "      <td>-1.426776</td>\n",
       "      <td>9.5</td>\n",
       "      <td>45.8</td>\n",
       "      <td>9668.959961</td>\n",
       "      <td>31.020000</td>\n",
       "      <td>0.21</td>\n",
       "      <td>84.889999</td>\n",
       "      <td>0.011484</td>\n",
       "      <td>0.003850</td>\n",
       "      <td>-0.013739</td>\n",
       "    </tr>\n",
       "    <tr>\n",
       "      <th>2009-06-05</th>\n",
       "      <td>940.090027</td>\n",
       "      <td>-1.426776</td>\n",
       "      <td>9.5</td>\n",
       "      <td>45.8</td>\n",
       "      <td>9768.009766</td>\n",
       "      <td>30.180000</td>\n",
       "      <td>0.20</td>\n",
       "      <td>81.260002</td>\n",
       "      <td>-0.002515</td>\n",
       "      <td>-0.007464</td>\n",
       "      <td>0.011484</td>\n",
       "    </tr>\n",
       "  </tbody>\n",
       "</table>\n",
       "</div>"
      ],
      "text/plain": [
       "                S&P500       CPI   UR   PMI    Nikkei225        VIX  EFFR  \\\n",
       "Date                                                                        \n",
       "2009-06-01  942.869995       NaN  NaN   NaN  9677.750000        NaN   NaN   \n",
       "2009-06-02  944.739990 -1.426776  9.5  45.8  9704.309570  30.040001  0.21   \n",
       "2009-06-03  931.760010 -1.426776  9.5  45.8  9741.669922  29.629999  0.20   \n",
       "2009-06-04  942.460022 -1.426776  9.5  45.8  9668.959961  31.020000  0.21   \n",
       "2009-06-05  940.090027 -1.426776  9.5  45.8  9768.009766  30.180000  0.20   \n",
       "\n",
       "                 VVIX  S&P_return  Nikkei225_return_d1  S&P_return_d1  \n",
       "Date                                                                   \n",
       "2009-06-01        NaN         NaN                  NaN            NaN  \n",
       "2009-06-02  84.230003    0.001983                  NaN            NaN  \n",
       "2009-06-03  83.820000   -0.013739             0.002744       0.001983  \n",
       "2009-06-04  84.889999    0.011484             0.003850      -0.013739  \n",
       "2009-06-05  81.260002   -0.002515            -0.007464       0.011484  "
      ]
     },
     "execution_count": 609,
     "metadata": {},
     "output_type": "execute_result"
    }
   ],
   "source": [
    "data['S&P_return'] = data['S&P500']/data['S&P500'].shift(1) -1\n",
    "data['Nikkei225_return_d1'] = (data.Nikkei225/data.Nikkei225.shift(1) -1).shift(1)\n",
    "data['S&P_return_d1'] = data['S&P_return'].shift(1)\n",
    "data[['CPI','UR','PMI','VIX','EFFR','VVIX']] = data[['CPI','UR','PMI','VIX','EFFR','VVIX']].shift(1)\n",
    "data.head()"
   ]
  },
  {
   "cell_type": "code",
   "execution_count": 610,
   "metadata": {},
   "outputs": [],
   "source": [
    "data.dropna(inplace = True)"
   ]
  },
  {
   "cell_type": "code",
   "execution_count": 611,
   "metadata": {},
   "outputs": [
    {
     "name": "stdout",
     "output_type": "stream",
     "text": [
      "The final number of rows is: 2327\n"
     ]
    }
   ],
   "source": [
    "print('The final number of rows is:',data.shape[0])"
   ]
  },
  {
   "cell_type": "code",
   "execution_count": 329,
   "metadata": {},
   "outputs": [],
   "source": [
    "# STEP 3:\n",
    "# Modeling\n",
    "# please use the linear regression and lasso regression to build the model, and compare the result of this two different method.\n",
    "# If you have time, you can try bagging and boosting method to get a more robust model."
   ]
  },
  {
   "cell_type": "markdown",
   "metadata": {},
   "source": [
    "#### Define a functiun to split the data between train, validation and test set "
   ]
  },
  {
   "cell_type": "code",
   "execution_count": 404,
   "metadata": {},
   "outputs": [],
   "source": [
    "# Write you modeling code below\n",
    "def train_val_test_split(X,Y,test_size,val=False,val_size=None):\n",
    "    n = len(Y)\n",
    "    if val:\n",
    "        Y_train = Y[:int(n*(1-val_size-test_size))]\n",
    "        Y_val = Y[int(n*(1-val_size-test_size)):int(n*(1-val_size-test_size))+int(n*val_size)]\n",
    "        Y_test = Y[int(n*(1-val_size-test_size))+int(n*val_size):]\n",
    "        X_train = X[:int(n*(1-val_size-test_size))]\n",
    "        X_val = X[int(n*(1-val_size-test_size)):int(n*(1-val_size-test_size))+int(n*val_size)]\n",
    "        X_test = X[int(n*(1-val_size-test_size))+int(n*val_size):]\n",
    "        return([Y_train,X_train, Y_val, X_val, Y_test, X_test])\n",
    "    else:\n",
    "        Y_train = Y[:int(n*(1-test_size))]\n",
    "        Y_test = Y[int(n*(1-test_size)):]\n",
    "        X_train = X[:int(n*(1-test_size))]\n",
    "        X_test = X[int(n*(1-test_size)):]\n",
    "        return([Y_train, X_train, Y_test, X_test])"
   ]
  },
  {
   "cell_type": "markdown",
   "metadata": {},
   "source": [
    "#### Define a function to compute the money made by investing 1 dollar at the begining of the testing period"
   ]
  },
  {
   "cell_type": "code",
   "execution_count": 422,
   "metadata": {},
   "outputs": [],
   "source": [
    "def money_made(Y_pred, Y_test):\n",
    "    true_pred = (np.sign(Y_pred) == np.sign(Y_test))\n",
    "    val = 1\n",
    "    for i in range(len(Y_test)):\n",
    "        if true_pred[i]:\n",
    "            val = val*(1+abs(Y_test[i]))\n",
    "        else:\n",
    "            val = val*(1-abs(Y_test[i]))\n",
    "    return val"
   ]
  },
  {
   "cell_type": "markdown",
   "metadata": {},
   "source": [
    "#### define X Covariates and Y the independent variable"
   ]
  },
  {
   "cell_type": "code",
   "execution_count": 456,
   "metadata": {},
   "outputs": [],
   "source": [
    "Y = data['S&P_return'].values\n",
    "X = data.drop(columns = ['S&P_return','S&P500','Nikkei225','Nikkei225_return']).values"
   ]
  },
  {
   "cell_type": "code",
   "execution_count": 617,
   "metadata": {},
   "outputs": [
    {
     "name": "stdout",
     "output_type": "stream",
     "text": [
      "begining of test set is: 2017-06-01 00:00:00\n"
     ]
    }
   ],
   "source": [
    "print('begining of test set is:',data.index[int(len(Y)*0.8)+1])"
   ]
  },
  {
   "cell_type": "markdown",
   "metadata": {},
   "source": [
    "### Linear Regression"
   ]
  },
  {
   "cell_type": "code",
   "execution_count": 672,
   "metadata": {},
   "outputs": [],
   "source": [
    "Y_train, X_train, Y_test, X_test = train_val_test_split(X,Y,0.2)"
   ]
  },
  {
   "cell_type": "code",
   "execution_count": 673,
   "metadata": {},
   "outputs": [
    {
     "data": {
      "text/plain": [
       "LinearRegression(copy_X=True, fit_intercept=True, n_jobs=1, normalize=False)"
      ]
     },
     "execution_count": 673,
     "metadata": {},
     "output_type": "execute_result"
    }
   ],
   "source": [
    "model = LinearRegression()\n",
    "model.fit(X_train,Y_train)"
   ]
  },
  {
   "cell_type": "code",
   "execution_count": 674,
   "metadata": {},
   "outputs": [],
   "source": [
    "Y_pred = model.predict(X_test)"
   ]
  },
  {
   "cell_type": "code",
   "execution_count": 675,
   "metadata": {},
   "outputs": [
    {
     "name": "stdout",
     "output_type": "stream",
     "text": [
      "The R² score for this model is: 0.10605669305600374\n"
     ]
    }
   ],
   "source": [
    "r2_lin = r2_score(Y_test,Y_pred)\n",
    "print('The R² score for this model is:',r2_lin)"
   ]
  },
  {
   "cell_type": "code",
   "execution_count": 677,
   "metadata": {},
   "outputs": [
    {
     "name": "stdout",
     "output_type": "stream",
     "text": [
      "Investing $1 the first if June 2017 will give now 2.1925203345209545 $\n"
     ]
    }
   ],
   "source": [
    "money_lin = money_made(Y_pred,Y_test)\n",
    "print('Investing $1 the first if June 2017 will give now',money_lin,'$')"
   ]
  },
  {
   "cell_type": "markdown",
   "metadata": {},
   "source": [
    "### Lasso Regression"
   ]
  },
  {
   "cell_type": "markdown",
   "metadata": {},
   "source": [
    "#### I run a validation test to find the best alpha"
   ]
  },
  {
   "cell_type": "code",
   "execution_count": 619,
   "metadata": {},
   "outputs": [],
   "source": [
    "Y_train, X_train, Y_val, X_val, Y_test, X_test = train_val_test_split(X,Y,test_size = 0.2,val = True, val_size = 0.2)"
   ]
  },
  {
   "cell_type": "code",
   "execution_count": 620,
   "metadata": {},
   "outputs": [],
   "source": [
    "alphas = np.array([0.0001,0.001,0.01,0.1,1,10,100,1000])"
   ]
  },
  {
   "cell_type": "code",
   "execution_count": 621,
   "metadata": {},
   "outputs": [],
   "source": [
    "money = []\n",
    "r2 = []\n",
    "for alpha in alphas:\n",
    "    model = Lasso(alpha = alpha,random_state = 12)\n",
    "    model.fit(X_train,Y_train)\n",
    "    Y_pred = model.predict(X_val)\n",
    "    r2.append(r2_score(Y_val,Y_pred))\n",
    "    money.append(money_made(Y_pred,Y_val))"
   ]
  },
  {
   "cell_type": "code",
   "execution_count": 629,
   "metadata": {},
   "outputs": [
    {
     "data": {
      "image/png": "[encoded data removed]",
      "text/plain": [
       "<Figure size 432x288 with 2 Axes>"
      ]
     },
     "metadata": {},
     "output_type": "display_data"
    }
   ],
   "source": [
    "plt.subplot(1,2,1)\n",
    "plt.plot(np.log(alphas),money,'r')\n",
    "plt.title(('Money over alpha'))\n",
    "plt.subplot(1,2,2)\n",
    "plt.plot(np.log(alphas),r2,'r')\n",
    "plt.title(('R² score over alpha'))\n",
    "plt.show()"
   ]
  },
  {
   "cell_type": "code",
   "execution_count": 461,
   "metadata": {},
   "outputs": [],
   "source": [
    "best_alpha = alphas[np.argmax(np.array(r2))]"
   ]
  },
  {
   "cell_type": "code",
   "execution_count": 678,
   "metadata": {},
   "outputs": [
    {
     "name": "stdout",
     "output_type": "stream",
     "text": [
      "The best alpha is: 0.001\n"
     ]
    }
   ],
   "source": [
    "print('The best alpha is:',best_alpha)"
   ]
  },
  {
   "cell_type": "markdown",
   "metadata": {},
   "source": [
    "### Training the best model on the train + validation set"
   ]
  },
  {
   "cell_type": "code",
   "execution_count": 679,
   "metadata": {},
   "outputs": [],
   "source": [
    "Y_train, X_train, Y_test, X_test = train_val_test_split(X,Y,0.2)"
   ]
  },
  {
   "cell_type": "code",
   "execution_count": 680,
   "metadata": {},
   "outputs": [
    {
     "data": {
      "text/plain": [
       "Lasso(alpha=0.001, copy_X=True, fit_intercept=True, max_iter=1000,\n",
       "   normalize=False, positive=False, precompute=False, random_state=12,\n",
       "   selection='cyclic', tol=0.0001, warm_start=False)"
      ]
     },
     "execution_count": 680,
     "metadata": {},
     "output_type": "execute_result"
    }
   ],
   "source": [
    "model = Lasso(alpha = best_alpha, random_state = 12)\n",
    "model.fit(X_train,Y_train)"
   ]
  },
  {
   "cell_type": "code",
   "execution_count": 681,
   "metadata": {},
   "outputs": [],
   "source": [
    "Y_pred = model.predict(X_test)"
   ]
  },
  {
   "cell_type": "code",
   "execution_count": 682,
   "metadata": {},
   "outputs": [
    {
     "name": "stdout",
     "output_type": "stream",
     "text": [
      "The R² score for this model is: 0.10803186021899625\n"
     ]
    }
   ],
   "source": [
    "r2_las = r2_score(Y_test,Y_pred)\n",
    "print('The R² score for this model is:',r2_las)"
   ]
  },
  {
   "cell_type": "code",
   "execution_count": 683,
   "metadata": {},
   "outputs": [
    {
     "name": "stdout",
     "output_type": "stream",
     "text": [
      "The money made with this model is $ 2.3299686314013215\n"
     ]
    }
   ],
   "source": [
    "money_las = money_made(Y_pred,Y_test)\n",
    "print('The money made with this model is $',money_las)"
   ]
  },
  {
   "cell_type": "markdown",
   "metadata": {},
   "source": [
    "### Bagging Regressor"
   ]
  },
  {
   "cell_type": "markdown",
   "metadata": {},
   "source": [
    "#### I will only try the bagging regressor with decision tree and do a validation test to find the best number of trees"
   ]
  },
  {
   "cell_type": "code",
   "execution_count": 637,
   "metadata": {},
   "outputs": [],
   "source": [
    "Y_train, X_train, Y_val, X_val, Y_test, X_test = train_val_test_split(X,Y,test_size = 0.2,val = True, val_size = 0.2)"
   ]
  },
  {
   "cell_type": "code",
   "execution_count": 638,
   "metadata": {},
   "outputs": [],
   "source": [
    "nb_estimators = np.arange(10,200,10)"
   ]
  },
  {
   "cell_type": "code",
   "execution_count": 643,
   "metadata": {},
   "outputs": [],
   "source": [
    "r2 = []\n",
    "for n in nb_estimators: \n",
    "    model = BaggingRegressor(n_estimators = n,random_state = 12)\n",
    "    model.fit(X_train,Y_train)\n",
    "    Y_pred = model.predict(X_val)\n",
    "    r2.append(r2_score(Y_val, Y_pred))"
   ]
  },
  {
   "cell_type": "code",
   "execution_count": 644,
   "metadata": {},
   "outputs": [
    {
     "data": {
      "image/png": "[encoded data removed]",
      "text/plain": [
       "<Figure size 432x288 with 1 Axes>"
      ]
     },
     "metadata": {},
     "output_type": "display_data"
    }
   ],
   "source": [
    "plt.plot(nb_estimators, r2)\n",
    "plt.title('R² score over the number of estimators')\n",
    "plt.show()"
   ]
  },
  {
   "cell_type": "code",
   "execution_count": 645,
   "metadata": {},
   "outputs": [],
   "source": [
    "best_n = nb_estimators[np.argmax(r2)]"
   ]
  },
  {
   "cell_type": "code",
   "execution_count": 646,
   "metadata": {},
   "outputs": [
    {
     "name": "stdout",
     "output_type": "stream",
     "text": [
      "The best number of estimator is: 60\n"
     ]
    }
   ],
   "source": [
    "print('The best number of estimator is:', best_n)"
   ]
  },
  {
   "cell_type": "markdown",
   "metadata": {},
   "source": [
    "#### I now train the best model on the whole training set"
   ]
  },
  {
   "cell_type": "code",
   "execution_count": 684,
   "metadata": {},
   "outputs": [],
   "source": [
    "Y_train, X_train, Y_test, X_test = train_val_test_split(X,Y,0.2)"
   ]
  },
  {
   "cell_type": "code",
   "execution_count": 685,
   "metadata": {},
   "outputs": [
    {
     "data": {
      "text/plain": [
       "BaggingRegressor(base_estimator=None, bootstrap=True,\n",
       "         bootstrap_features=False, max_features=1.0, max_samples=1.0,\n",
       "         n_estimators=10, n_jobs=1, oob_score=False, random_state=12,\n",
       "         verbose=0, warm_start=False)"
      ]
     },
     "execution_count": 685,
     "metadata": {},
     "output_type": "execute_result"
    }
   ],
   "source": [
    "model = BaggingRegressor(n_estimators = best_n, random_state = 12)\n",
    "model.fit(X_train,Y_train)"
   ]
  },
  {
   "cell_type": "code",
   "execution_count": 686,
   "metadata": {},
   "outputs": [],
   "source": [
    "Y_pred = model.predict(X_test)"
   ]
  },
  {
   "cell_type": "code",
   "execution_count": 689,
   "metadata": {},
   "outputs": [
    {
     "name": "stdout",
     "output_type": "stream",
     "text": [
      "The R² score for this model is: 0.08374729222238819\n"
     ]
    }
   ],
   "source": [
    "r2_bag = r2_score(Y_test,Y_pred)\n",
    "print('The R² score for this model is:',r2_bag)"
   ]
  },
  {
   "cell_type": "code",
   "execution_count": 690,
   "metadata": {},
   "outputs": [
    {
     "name": "stdout",
     "output_type": "stream",
     "text": [
      "The money made with this model is: 2.4648655048763275\n"
     ]
    }
   ],
   "source": [
    "money_bag = money_made(Y_pred,Y_test)\n",
    "print('The money made with this model is:',money_bag)"
   ]
  },
  {
   "cell_type": "markdown",
   "metadata": {},
   "source": [
    "### Gradient Boosting"
   ]
  },
  {
   "cell_type": "markdown",
   "metadata": {},
   "source": [
    "I will perform a grid search with Gradient Boosting to find the best trade off between the learning rate and the number of estimators"
   ]
  },
  {
   "cell_type": "code",
   "execution_count": 653,
   "metadata": {},
   "outputs": [],
   "source": [
    "Y_train, X_train, Y_val, X_val, Y_test, X_test = train_val_test_split(X,Y,test_size = 0.2,val = True, val_size = 0.2)"
   ]
  },
  {
   "cell_type": "code",
   "execution_count": 654,
   "metadata": {},
   "outputs": [],
   "source": [
    "nb_estimators = np.arange(10,110,10)\n",
    "learning_rates = np.array([0.001,0.01,0.1,1,10,100])"
   ]
  },
  {
   "cell_type": "code",
   "execution_count": 662,
   "metadata": {},
   "outputs": [
    {
     "name": "stderr",
     "output_type": "stream",
     "text": [
      "C:\\Users\\antoi\\Anaconda3\\lib\\site-packages\\sklearn\\ensemble\\gradient_boosting.py:282: RuntimeWarning: overflow encountered in square\n",
      "  np.sum(sample_weight * ((y - pred.ravel()) ** 2.0)))\n",
      "C:\\Users\\antoi\\Anaconda3\\lib\\site-packages\\numpy\\core\\_methods.py:32: RuntimeWarning: overflow encountered in reduce\n",
      "  return umr_sum(a, axis, dtype, out, keepdims)\n",
      "C:\\Users\\antoi\\Anaconda3\\lib\\site-packages\\sklearn\\metrics\\regression.py:538: RuntimeWarning: overflow encountered in square\n",
      "  numerator = (weight * (y_true - y_pred) ** 2).sum(axis=0,\n"
     ]
    }
   ],
   "source": [
    "r2 = np.zeros((len(nb_estimators),len(learning_rates)))\n",
    "for i in range(len(nb_estimators)):\n",
    "    for j in range(len(learning_rates)):\n",
    "        model = GradientBoostingRegressor(n_estimators = nb_estimators[i],learning_rate = learning_rates[j],random_state = 630)\n",
    "        model.fit(X_train,Y_train)\n",
    "        Y_pred = model.predict(X_val)\n",
    "        r2[i,j] = r2_score(Y_val,Y_pred)"
   ]
  },
  {
   "cell_type": "code",
   "execution_count": 663,
   "metadata": {},
   "outputs": [
    {
     "name": "stdout",
     "output_type": "stream",
     "text": [
      "The best number of estimators is: 10\n"
     ]
    }
   ],
   "source": [
    "best_n = nb_estimators[np.unravel_index(np.argmax(r2, axis=None), r2.shape)[0]]\n",
    "print('The best number of estimators is:',best_n)"
   ]
  },
  {
   "cell_type": "code",
   "execution_count": 664,
   "metadata": {},
   "outputs": [
    {
     "name": "stdout",
     "output_type": "stream",
     "text": [
      "The best learning rate is: 0.1\n"
     ]
    }
   ],
   "source": [
    "best_rate = learning_rates[np.unravel_index(np.argmax(r2, axis=None), r2.shape)[1]]\n",
    "print('The best learning rate is:',best_rate)"
   ]
  },
  {
   "cell_type": "markdown",
   "metadata": {},
   "source": [
    "#### We now train the best model on the whole training set"
   ]
  },
  {
   "cell_type": "code",
   "execution_count": 691,
   "metadata": {},
   "outputs": [],
   "source": [
    "Y_train, X_train, Y_test, X_test = train_val_test_split(X,Y,0.2)"
   ]
  },
  {
   "cell_type": "code",
   "execution_count": 692,
   "metadata": {},
   "outputs": [
    {
     "data": {
      "text/plain": [
       "GradientBoostingRegressor(alpha=0.9, criterion='friedman_mse', init=None,\n",
       "             learning_rate=0.1, loss='ls', max_depth=3, max_features=None,\n",
       "             max_leaf_nodes=None, min_impurity_decrease=0.0,\n",
       "             min_impurity_split=None, min_samples_leaf=1,\n",
       "             min_samples_split=2, min_weight_fraction_leaf=0.0,\n",
       "             n_estimators=10, presort='auto', random_state=630,\n",
       "             subsample=1.0, verbose=0, warm_start=False)"
      ]
     },
     "execution_count": 692,
     "metadata": {},
     "output_type": "execute_result"
    }
   ],
   "source": [
    "model = GradientBoostingRegressor(n_estimators = best_n, learning_rate = best_rate,random_state = 630)\n",
    "model.fit(X_train,Y_train)"
   ]
  },
  {
   "cell_type": "code",
   "execution_count": 693,
   "metadata": {},
   "outputs": [],
   "source": [
    "Y_pred = model.predict(X_test)"
   ]
  },
  {
   "cell_type": "code",
   "execution_count": 696,
   "metadata": {},
   "outputs": [
    {
     "name": "stdout",
     "output_type": "stream",
     "text": [
      "The R² score for this model is: 0.10423488009750992\n"
     ]
    }
   ],
   "source": [
    "r2_grad = r2_score(Y_test,Y_pred)\n",
    "print('The R² score for this model is:',r2_grad)"
   ]
  },
  {
   "cell_type": "code",
   "execution_count": 697,
   "metadata": {},
   "outputs": [
    {
     "name": "stdout",
     "output_type": "stream",
     "text": [
      "The money made with this model is: 2.530627762427387\n"
     ]
    }
   ],
   "source": [
    "money_grad = money_made(Y_pred,Y_test)\n",
    "print('The money made with this model is:',money_grad)"
   ]
  },
  {
   "cell_type": "markdown",
   "metadata": {},
   "source": [
    "### Models Comparison"
   ]
  },
  {
   "cell_type": "code",
   "execution_count": 706,
   "metadata": {},
   "outputs": [],
   "source": [
    "r2_scores = [r2_lin, r2_las, r2_bag, r2_grad]\n",
    "moneys = [money_lin, money_las, money_bag, money_grad]\n",
    "models = ['Linear', 'Lasso', 'Bagging', 'Gradient Boosting']"
   ]
  },
  {
   "cell_type": "code",
   "execution_count": 709,
   "metadata": {},
   "outputs": [
    {
     "data": {
      "image/png": "[encoded data removed]",
      "text/plain": [
       "<Figure size 432x288 with 2 Axes>"
      ]
     },
     "metadata": {},
     "output_type": "display_data"
    }
   ],
   "source": [
    "x = np.arange(4)\n",
    "plt.subplot(211)\n",
    "plt.bar(x, height= r2_scores) \n",
    "plt.xticks(x, models)\n",
    "plt.subplot(212)\n",
    "plt.bar(x, height = moneys)\n",
    "plt.xticks(x, models)\n",
    "plt.show()"
   ]
  },
  {
   "cell_type": "markdown",
   "metadata": {},
   "source": [
    "The model that has the best R² score is the lasso regression which mean that it explains the the variance the best. And the model with which we make the more money is the gradient boosting."
   ]
  }
 ],
 "metadata": {
  "kernelspec": {
   "display_name": "Python 3",
   "language": "python",
   "name": "python3"
  },
  "language_info": {
   "codemirror_mode": {
    "name": "ipython",
    "version": 3
   },
   "file_extension": ".py",
   "mimetype": "text/x-python",
   "name": "python",
   "nbconvert_exporter": "python",
   "pygments_lexer": "ipython3",
   "version": "3.6.5"
  }
 },
 "nbformat": 4,
 "nbformat_minor": 2
}
